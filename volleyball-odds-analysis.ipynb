{
 "nbformat": 4,
 "nbformat_minor": 0,
 "metadata": {
  "colab": {
   "provenance": []
  },
  "kernelspec": {
   "name": "python3",
   "display_name": "Python 3"
  },
  "language_info": {
   "name": "python"
  }
 },
 "cells": [
  {
   "cell_type": "markdown",
   "source": [
    "# 0. 폰트 설정"
   ],
   "metadata": {
    "id": "e_scphKJjAhP"
   }
  },
  {
   "cell_type": "code",
   "source": [
    "#  폰트 설치\n",
    "import matplotlib.font_manager as fm\n",
    "\n",
    "!apt-get -qq -y install fonts-nanum > /dev/null\n",
    "fontpath = '/usr/share/fonts/truetype/nanum/NanumBarunGothic.ttf'\n",
    "font = fm.FontProperties(fname=fontpath, size=9)\n",
    "fm._rebuild()"
   ],
   "metadata": {
    "id": "ep2-wOgui6SF"
   },
   "execution_count": 69,
   "outputs": []
  },
  {
   "cell_type": "code",
   "source": [
    "#런타임 재시작\n",
    "import os\n",
    "os.kill(os.getpid(), 9)"
   ],
   "metadata": {
    "id": "6UyS00bzi64x"
   },
   "execution_count": null,
   "outputs": []
  },
  {
   "cell_type": "code",
   "source": [
    "#  폰트 설정\n",
    "import matplotlib.pyplot as plt\n",
    "import matplotlib as mpl\n",
    "import matplotlib.font_manager as fm\n",
    "\n",
    "# 마이너스 표시 문제\n",
    "mpl.rcParams['axes.unicode_minus'] = False\n",
    "\t\n",
    "# 한글 폰트 설정\n",
    "path = '/usr/share/fonts/truetype/nanum/NanumGothicBold.ttf'\n",
    "font_name = fm.FontProperties(fname=path, size=18).get_name()\n",
    "plt.rc('font', family=font_name)\n",
    "fm._rebuild()"
   ],
   "metadata": {
    "id": "eTTmXugni7HI"
   },
   "execution_count": 70,
   "outputs": []
  },
  {
   "cell_type": "markdown",
   "source": [
    "# 1. 라이브러리 임포트"
   ],
   "metadata": {
    "id": "c6E5H6nWeAyo"
   }
  },
  {
   "cell_type": "code",
   "source": [
    "import pandas as pd\n",
    "import seaborn as sns\n",
    "import matplotlib.pyplot as plt\n",
    "import warnings\n",
    "\n",
    "warnings.filterwarnings(action='ignore')"
   ],
   "metadata": {
    "id": "6o0xfbDid_vQ"
   },
   "execution_count": 71,
   "outputs": []
  },
  {
   "cell_type": "markdown",
   "source": [
    "# 2. 데이터 전처리\n",
    "\n",
    "1.   상대팀 column에서 KT&G, 인삼공사를 KGC인삼공사로 치환\n",
    "2.   김연경 column에서 선발을 출전으로 치환\n",
    "\n"
   ],
   "metadata": {
    "id": "V6DMFMNALBwu"
   }
  },
  {
   "cell_type": "code",
   "execution_count": 72,
   "metadata": {
    "colab": {
     "base_uri": "https://localhost:8080/",
     "height": 1000
    },
    "id": "s1siLnH1K8zi",
    "outputId": "474cb8b8-cceb-4664-8be9-201ff1c9bfba"
   },
   "outputs": [
    {
     "output_type": "execute_result",
     "data": {
      "text/plain": [
       "    시즌      상대팀  공격득점  블로킹득점  서브득점  팀범실  상대범실  전체득점  상대득점  디그성공  ...  세트패  결과  \\\n",
       "0    1     현대건설    43      3     5   16    18    75    66    55  ...    0   승   \n",
       "1    1  KGC인삼공사    37      3     4   19    11    59    81    75  ...    3   패   \n",
       "2    1     도로공사    35      1     1   17     8    50    75    73  ...    3   패   \n",
       "3    1    GS칼텍스    68      6     2   29    17   100    96    91  ...    1   승   \n",
       "4    1    GS칼텍스    51      3     4   25    20    83    96   102  ...    3   패   \n",
       "5    1     도로공사    36      1     3   26    10    52    75   109  ...    3   패   \n",
       "6    1     현대건설    64      5    11   25    20   101   109   138  ...    3   패   \n",
       "7    1  KGC인삼공사    60      4     5   27    11    89   109   132  ...    3   패   \n",
       "8    1     도로공사    49      3     2   28     8    68    98    83  ...    3   패   \n",
       "9    1     현대건설    60      6     3   37    22   100   102    84  ...    3   패   \n",
       "10   1  KGC인삼공사    29      4     0   20    11    45    75    72  ...    3   패   \n",
       "11   1     도로공사    33      1     2   22     9    46    75    89  ...    3   패   \n",
       "12   1    GS칼텍스    52      3     1   36    14    70    96    82  ...    3   패   \n",
       "13   1  KGC인삼공사    56      5     2   19    12    77    97   127  ...    3   패   \n",
       "14   1    GS칼텍스    42      3     2   19    15    62    75    87  ...    3   패   \n",
       "15   1     현대건설    74      7     3   25    19   109   104   156  ...    2   승   \n",
       "16   2     현대건설    54      3     6   27    18    94    76    90  ...    1   승   \n",
       "17   2    GS칼텍스    56      9     8   30    19   101   101    98  ...    3   패   \n",
       "18   2  KGC인삼공사    43      8     6   14    12    75    51    82  ...    0   승   \n",
       "19   2     도로공사    57      5     4   30    16    86    88    95  ...    3   패   \n",
       "\n",
       "    김연경  김연경득점  김연경시도  김연경성공  김연경공격차단 김연경범실 김연경성공률  김연경점유율  \n",
       "0   미출전    NaN    NaN    NaN      NaN   NaN    NaN     NaN  \n",
       "1   미출전    NaN    NaN    NaN      NaN   NaN    NaN     NaN  \n",
       "2   미출전    NaN    NaN    NaN      NaN   NaN    NaN     NaN  \n",
       "3   미출전    NaN    NaN    NaN      NaN   NaN    NaN     NaN  \n",
       "4   미출전    NaN    NaN    NaN      NaN   NaN    NaN     NaN  \n",
       "5   미출전    NaN    NaN    NaN      NaN   NaN    NaN     NaN  \n",
       "6   미출전    NaN    NaN    NaN      NaN   NaN    NaN     NaN  \n",
       "7   미출전    NaN    NaN    NaN      NaN   NaN    NaN     NaN  \n",
       "8   미출전    NaN    NaN    NaN      NaN   NaN    NaN     NaN  \n",
       "9   미출전    NaN    NaN    NaN      NaN   NaN    NaN     NaN  \n",
       "10  미출전    NaN    NaN    NaN      NaN   NaN    NaN     NaN  \n",
       "11  미출전    NaN    NaN    NaN      NaN   NaN    NaN     NaN  \n",
       "12  미출전    NaN    NaN    NaN      NaN   NaN    NaN     NaN  \n",
       "13  미출전    NaN    NaN    NaN      NaN   NaN    NaN     NaN  \n",
       "14  미출전    NaN    NaN    NaN      NaN   NaN    NaN     NaN  \n",
       "15  미출전    NaN    NaN    NaN      NaN   NaN    NaN     NaN  \n",
       "16   출전   29.0   37.0   20.0      0.0   5.0  54.05   25.69  \n",
       "17   출전   37.0   68.0   27.0      4.0   3.0  39.71   40.00  \n",
       "18   출전   19.0   30.0   12.0      0.0   4.0  40.00   24.79  \n",
       "19   출전   27.0   62.0   23.0      1.0   6.0  37.10   37.58  \n",
       "\n",
       "[20 rows x 26 columns]"
      ],
      "text/html": [
       "\n",
       "  <div id=\"df-5ca9b60e-227d-40a3-93ad-d856886e5a7c\">\n",
       "    <div class=\"colab-df-container\">\n",
       "      <div>\n",
       "<style scoped>\n",
       "    .dataframe tbody tr th:only-of-type {\n",
       "        vertical-align: middle;\n",
       "    }\n",
       "\n",
       "    .dataframe tbody tr th {\n",
       "        vertical-align: top;\n",
       "    }\n",
       "\n",
       "    .dataframe thead th {\n",
       "        text-align: right;\n",
       "    }\n",
       "</style>\n",
       "<table border=\"1\" class=\"dataframe\">\n",
       "  <thead>\n",
       "    <tr style=\"text-align: right;\">\n",
       "      <th></th>\n",
       "      <th>시즌</th>\n",
       "      <th>상대팀</th>\n",
       "      <th>공격득점</th>\n",
       "      <th>블로킹득점</th>\n",
       "      <th>서브득점</th>\n",
       "      <th>팀범실</th>\n",
       "      <th>상대범실</th>\n",
       "      <th>전체득점</th>\n",
       "      <th>상대득점</th>\n",
       "      <th>디그성공</th>\n",
       "      <th>...</th>\n",
       "      <th>세트패</th>\n",
       "      <th>결과</th>\n",
       "      <th>김연경</th>\n",
       "      <th>김연경득점</th>\n",
       "      <th>김연경시도</th>\n",
       "      <th>김연경성공</th>\n",
       "      <th>김연경공격차단</th>\n",
       "      <th>김연경범실</th>\n",
       "      <th>김연경성공률</th>\n",
       "      <th>김연경점유율</th>\n",
       "    </tr>\n",
       "  </thead>\n",
       "  <tbody>\n",
       "    <tr>\n",
       "      <th>0</th>\n",
       "      <td>1</td>\n",
       "      <td>현대건설</td>\n",
       "      <td>43</td>\n",
       "      <td>3</td>\n",
       "      <td>5</td>\n",
       "      <td>16</td>\n",
       "      <td>18</td>\n",
       "      <td>75</td>\n",
       "      <td>66</td>\n",
       "      <td>55</td>\n",
       "      <td>...</td>\n",
       "      <td>0</td>\n",
       "      <td>승</td>\n",
       "      <td>미출전</td>\n",
       "      <td>NaN</td>\n",
       "      <td>NaN</td>\n",
       "      <td>NaN</td>\n",
       "      <td>NaN</td>\n",
       "      <td>NaN</td>\n",
       "      <td>NaN</td>\n",
       "      <td>NaN</td>\n",
       "    </tr>\n",
       "    <tr>\n",
       "      <th>1</th>\n",
       "      <td>1</td>\n",
       "      <td>KGC인삼공사</td>\n",
       "      <td>37</td>\n",
       "      <td>3</td>\n",
       "      <td>4</td>\n",
       "      <td>19</td>\n",
       "      <td>11</td>\n",
       "      <td>59</td>\n",
       "      <td>81</td>\n",
       "      <td>75</td>\n",
       "      <td>...</td>\n",
       "      <td>3</td>\n",
       "      <td>패</td>\n",
       "      <td>미출전</td>\n",
       "      <td>NaN</td>\n",
       "      <td>NaN</td>\n",
       "      <td>NaN</td>\n",
       "      <td>NaN</td>\n",
       "      <td>NaN</td>\n",
       "      <td>NaN</td>\n",
       "      <td>NaN</td>\n",
       "    </tr>\n",
       "    <tr>\n",
       "      <th>2</th>\n",
       "      <td>1</td>\n",
       "      <td>도로공사</td>\n",
       "      <td>35</td>\n",
       "      <td>1</td>\n",
       "      <td>1</td>\n",
       "      <td>17</td>\n",
       "      <td>8</td>\n",
       "      <td>50</td>\n",
       "      <td>75</td>\n",
       "      <td>73</td>\n",
       "      <td>...</td>\n",
       "      <td>3</td>\n",
       "      <td>패</td>\n",
       "      <td>미출전</td>\n",
       "      <td>NaN</td>\n",
       "      <td>NaN</td>\n",
       "      <td>NaN</td>\n",
       "      <td>NaN</td>\n",
       "      <td>NaN</td>\n",
       "      <td>NaN</td>\n",
       "      <td>NaN</td>\n",
       "    </tr>\n",
       "    <tr>\n",
       "      <th>3</th>\n",
       "      <td>1</td>\n",
       "      <td>GS칼텍스</td>\n",
       "      <td>68</td>\n",
       "      <td>6</td>\n",
       "      <td>2</td>\n",
       "      <td>29</td>\n",
       "      <td>17</td>\n",
       "      <td>100</td>\n",
       "      <td>96</td>\n",
       "      <td>91</td>\n",
       "      <td>...</td>\n",
       "      <td>1</td>\n",
       "      <td>승</td>\n",
       "      <td>미출전</td>\n",
       "      <td>NaN</td>\n",
       "      <td>NaN</td>\n",
       "      <td>NaN</td>\n",
       "      <td>NaN</td>\n",
       "      <td>NaN</td>\n",
       "      <td>NaN</td>\n",
       "      <td>NaN</td>\n",
       "    </tr>\n",
       "    <tr>\n",
       "      <th>4</th>\n",
       "      <td>1</td>\n",
       "      <td>GS칼텍스</td>\n",
       "      <td>51</td>\n",
       "      <td>3</td>\n",
       "      <td>4</td>\n",
       "      <td>25</td>\n",
       "      <td>20</td>\n",
       "      <td>83</td>\n",
       "      <td>96</td>\n",
       "      <td>102</td>\n",
       "      <td>...</td>\n",
       "      <td>3</td>\n",
       "      <td>패</td>\n",
       "      <td>미출전</td>\n",
       "      <td>NaN</td>\n",
       "      <td>NaN</td>\n",
       "      <td>NaN</td>\n",
       "      <td>NaN</td>\n",
       "      <td>NaN</td>\n",
       "      <td>NaN</td>\n",
       "      <td>NaN</td>\n",
       "    </tr>\n",
       "    <tr>\n",
       "      <th>5</th>\n",
       "      <td>1</td>\n",
       "      <td>도로공사</td>\n",
       "      <td>36</td>\n",
       "      <td>1</td>\n",
       "      <td>3</td>\n",
       "      <td>26</td>\n",
       "      <td>10</td>\n",
       "      <td>52</td>\n",
       "      <td>75</td>\n",
       "      <td>109</td>\n",
       "      <td>...</td>\n",
       "      <td>3</td>\n",
       "      <td>패</td>\n",
       "      <td>미출전</td>\n",
       "      <td>NaN</td>\n",
       "      <td>NaN</td>\n",
       "      <td>NaN</td>\n",
       "      <td>NaN</td>\n",
       "      <td>NaN</td>\n",
       "      <td>NaN</td>\n",
       "      <td>NaN</td>\n",
       "    </tr>\n",
       "    <tr>\n",
       "      <th>6</th>\n",
       "      <td>1</td>\n",
       "      <td>현대건설</td>\n",
       "      <td>64</td>\n",
       "      <td>5</td>\n",
       "      <td>11</td>\n",
       "      <td>25</td>\n",
       "      <td>20</td>\n",
       "      <td>101</td>\n",
       "      <td>109</td>\n",
       "      <td>138</td>\n",
       "      <td>...</td>\n",
       "      <td>3</td>\n",
       "      <td>패</td>\n",
       "      <td>미출전</td>\n",
       "      <td>NaN</td>\n",
       "      <td>NaN</td>\n",
       "      <td>NaN</td>\n",
       "      <td>NaN</td>\n",
       "      <td>NaN</td>\n",
       "      <td>NaN</td>\n",
       "      <td>NaN</td>\n",
       "    </tr>\n",
       "    <tr>\n",
       "      <th>7</th>\n",
       "      <td>1</td>\n",
       "      <td>KGC인삼공사</td>\n",
       "      <td>60</td>\n",
       "      <td>4</td>\n",
       "      <td>5</td>\n",
       "      <td>27</td>\n",
       "      <td>11</td>\n",
       "      <td>89</td>\n",
       "      <td>109</td>\n",
       "      <td>132</td>\n",
       "      <td>...</td>\n",
       "      <td>3</td>\n",
       "      <td>패</td>\n",
       "      <td>미출전</td>\n",
       "      <td>NaN</td>\n",
       "      <td>NaN</td>\n",
       "      <td>NaN</td>\n",
       "      <td>NaN</td>\n",
       "      <td>NaN</td>\n",
       "      <td>NaN</td>\n",
       "      <td>NaN</td>\n",
       "    </tr>\n",
       "    <tr>\n",
       "      <th>8</th>\n",
       "      <td>1</td>\n",
       "      <td>도로공사</td>\n",
       "      <td>49</td>\n",
       "      <td>3</td>\n",
       "      <td>2</td>\n",
       "      <td>28</td>\n",
       "      <td>8</td>\n",
       "      <td>68</td>\n",
       "      <td>98</td>\n",
       "      <td>83</td>\n",
       "      <td>...</td>\n",
       "      <td>3</td>\n",
       "      <td>패</td>\n",
       "      <td>미출전</td>\n",
       "      <td>NaN</td>\n",
       "      <td>NaN</td>\n",
       "      <td>NaN</td>\n",
       "      <td>NaN</td>\n",
       "      <td>NaN</td>\n",
       "      <td>NaN</td>\n",
       "      <td>NaN</td>\n",
       "    </tr>\n",
       "    <tr>\n",
       "      <th>9</th>\n",
       "      <td>1</td>\n",
       "      <td>현대건설</td>\n",
       "      <td>60</td>\n",
       "      <td>6</td>\n",
       "      <td>3</td>\n",
       "      <td>37</td>\n",
       "      <td>22</td>\n",
       "      <td>100</td>\n",
       "      <td>102</td>\n",
       "      <td>84</td>\n",
       "      <td>...</td>\n",
       "      <td>3</td>\n",
       "      <td>패</td>\n",
       "      <td>미출전</td>\n",
       "      <td>NaN</td>\n",
       "      <td>NaN</td>\n",
       "      <td>NaN</td>\n",
       "      <td>NaN</td>\n",
       "      <td>NaN</td>\n",
       "      <td>NaN</td>\n",
       "      <td>NaN</td>\n",
       "    </tr>\n",
       "    <tr>\n",
       "      <th>10</th>\n",
       "      <td>1</td>\n",
       "      <td>KGC인삼공사</td>\n",
       "      <td>29</td>\n",
       "      <td>4</td>\n",
       "      <td>0</td>\n",
       "      <td>20</td>\n",
       "      <td>11</td>\n",
       "      <td>45</td>\n",
       "      <td>75</td>\n",
       "      <td>72</td>\n",
       "      <td>...</td>\n",
       "      <td>3</td>\n",
       "      <td>패</td>\n",
       "      <td>미출전</td>\n",
       "      <td>NaN</td>\n",
       "      <td>NaN</td>\n",
       "      <td>NaN</td>\n",
       "      <td>NaN</td>\n",
       "      <td>NaN</td>\n",
       "      <td>NaN</td>\n",
       "      <td>NaN</td>\n",
       "    </tr>\n",
       "    <tr>\n",
       "      <th>11</th>\n",
       "      <td>1</td>\n",
       "      <td>도로공사</td>\n",
       "      <td>33</td>\n",
       "      <td>1</td>\n",
       "      <td>2</td>\n",
       "      <td>22</td>\n",
       "      <td>9</td>\n",
       "      <td>46</td>\n",
       "      <td>75</td>\n",
       "      <td>89</td>\n",
       "      <td>...</td>\n",
       "      <td>3</td>\n",
       "      <td>패</td>\n",
       "      <td>미출전</td>\n",
       "      <td>NaN</td>\n",
       "      <td>NaN</td>\n",
       "      <td>NaN</td>\n",
       "      <td>NaN</td>\n",
       "      <td>NaN</td>\n",
       "      <td>NaN</td>\n",
       "      <td>NaN</td>\n",
       "    </tr>\n",
       "    <tr>\n",
       "      <th>12</th>\n",
       "      <td>1</td>\n",
       "      <td>GS칼텍스</td>\n",
       "      <td>52</td>\n",
       "      <td>3</td>\n",
       "      <td>1</td>\n",
       "      <td>36</td>\n",
       "      <td>14</td>\n",
       "      <td>70</td>\n",
       "      <td>96</td>\n",
       "      <td>82</td>\n",
       "      <td>...</td>\n",
       "      <td>3</td>\n",
       "      <td>패</td>\n",
       "      <td>미출전</td>\n",
       "      <td>NaN</td>\n",
       "      <td>NaN</td>\n",
       "      <td>NaN</td>\n",
       "      <td>NaN</td>\n",
       "      <td>NaN</td>\n",
       "      <td>NaN</td>\n",
       "      <td>NaN</td>\n",
       "    </tr>\n",
       "    <tr>\n",
       "      <th>13</th>\n",
       "      <td>1</td>\n",
       "      <td>KGC인삼공사</td>\n",
       "      <td>56</td>\n",
       "      <td>5</td>\n",
       "      <td>2</td>\n",
       "      <td>19</td>\n",
       "      <td>12</td>\n",
       "      <td>77</td>\n",
       "      <td>97</td>\n",
       "      <td>127</td>\n",
       "      <td>...</td>\n",
       "      <td>3</td>\n",
       "      <td>패</td>\n",
       "      <td>미출전</td>\n",
       "      <td>NaN</td>\n",
       "      <td>NaN</td>\n",
       "      <td>NaN</td>\n",
       "      <td>NaN</td>\n",
       "      <td>NaN</td>\n",
       "      <td>NaN</td>\n",
       "      <td>NaN</td>\n",
       "    </tr>\n",
       "    <tr>\n",
       "      <th>14</th>\n",
       "      <td>1</td>\n",
       "      <td>GS칼텍스</td>\n",
       "      <td>42</td>\n",
       "      <td>3</td>\n",
       "      <td>2</td>\n",
       "      <td>19</td>\n",
       "      <td>15</td>\n",
       "      <td>62</td>\n",
       "      <td>75</td>\n",
       "      <td>87</td>\n",
       "      <td>...</td>\n",
       "      <td>3</td>\n",
       "      <td>패</td>\n",
       "      <td>미출전</td>\n",
       "      <td>NaN</td>\n",
       "      <td>NaN</td>\n",
       "      <td>NaN</td>\n",
       "      <td>NaN</td>\n",
       "      <td>NaN</td>\n",
       "      <td>NaN</td>\n",
       "      <td>NaN</td>\n",
       "    </tr>\n",
       "    <tr>\n",
       "      <th>15</th>\n",
       "      <td>1</td>\n",
       "      <td>현대건설</td>\n",
       "      <td>74</td>\n",
       "      <td>7</td>\n",
       "      <td>3</td>\n",
       "      <td>25</td>\n",
       "      <td>19</td>\n",
       "      <td>109</td>\n",
       "      <td>104</td>\n",
       "      <td>156</td>\n",
       "      <td>...</td>\n",
       "      <td>2</td>\n",
       "      <td>승</td>\n",
       "      <td>미출전</td>\n",
       "      <td>NaN</td>\n",
       "      <td>NaN</td>\n",
       "      <td>NaN</td>\n",
       "      <td>NaN</td>\n",
       "      <td>NaN</td>\n",
       "      <td>NaN</td>\n",
       "      <td>NaN</td>\n",
       "    </tr>\n",
       "    <tr>\n",
       "      <th>16</th>\n",
       "      <td>2</td>\n",
       "      <td>현대건설</td>\n",
       "      <td>54</td>\n",
       "      <td>3</td>\n",
       "      <td>6</td>\n",
       "      <td>27</td>\n",
       "      <td>18</td>\n",
       "      <td>94</td>\n",
       "      <td>76</td>\n",
       "      <td>90</td>\n",
       "      <td>...</td>\n",
       "      <td>1</td>\n",
       "      <td>승</td>\n",
       "      <td>출전</td>\n",
       "      <td>29.0</td>\n",
       "      <td>37.0</td>\n",
       "      <td>20.0</td>\n",
       "      <td>0.0</td>\n",
       "      <td>5.0</td>\n",
       "      <td>54.05</td>\n",
       "      <td>25.69</td>\n",
       "    </tr>\n",
       "    <tr>\n",
       "      <th>17</th>\n",
       "      <td>2</td>\n",
       "      <td>GS칼텍스</td>\n",
       "      <td>56</td>\n",
       "      <td>9</td>\n",
       "      <td>8</td>\n",
       "      <td>30</td>\n",
       "      <td>19</td>\n",
       "      <td>101</td>\n",
       "      <td>101</td>\n",
       "      <td>98</td>\n",
       "      <td>...</td>\n",
       "      <td>3</td>\n",
       "      <td>패</td>\n",
       "      <td>출전</td>\n",
       "      <td>37.0</td>\n",
       "      <td>68.0</td>\n",
       "      <td>27.0</td>\n",
       "      <td>4.0</td>\n",
       "      <td>3.0</td>\n",
       "      <td>39.71</td>\n",
       "      <td>40.00</td>\n",
       "    </tr>\n",
       "    <tr>\n",
       "      <th>18</th>\n",
       "      <td>2</td>\n",
       "      <td>KGC인삼공사</td>\n",
       "      <td>43</td>\n",
       "      <td>8</td>\n",
       "      <td>6</td>\n",
       "      <td>14</td>\n",
       "      <td>12</td>\n",
       "      <td>75</td>\n",
       "      <td>51</td>\n",
       "      <td>82</td>\n",
       "      <td>...</td>\n",
       "      <td>0</td>\n",
       "      <td>승</td>\n",
       "      <td>출전</td>\n",
       "      <td>19.0</td>\n",
       "      <td>30.0</td>\n",
       "      <td>12.0</td>\n",
       "      <td>0.0</td>\n",
       "      <td>4.0</td>\n",
       "      <td>40.00</td>\n",
       "      <td>24.79</td>\n",
       "    </tr>\n",
       "    <tr>\n",
       "      <th>19</th>\n",
       "      <td>2</td>\n",
       "      <td>도로공사</td>\n",
       "      <td>57</td>\n",
       "      <td>5</td>\n",
       "      <td>4</td>\n",
       "      <td>30</td>\n",
       "      <td>16</td>\n",
       "      <td>86</td>\n",
       "      <td>88</td>\n",
       "      <td>95</td>\n",
       "      <td>...</td>\n",
       "      <td>3</td>\n",
       "      <td>패</td>\n",
       "      <td>출전</td>\n",
       "      <td>27.0</td>\n",
       "      <td>62.0</td>\n",
       "      <td>23.0</td>\n",
       "      <td>1.0</td>\n",
       "      <td>6.0</td>\n",
       "      <td>37.10</td>\n",
       "      <td>37.58</td>\n",
       "    </tr>\n",
       "  </tbody>\n",
       "</table>\n",
       "<p>20 rows × 26 columns</p>\n",
       "</div>\n",
       "      <button class=\"colab-df-convert\" onclick=\"convertToInteractive('df-5ca9b60e-227d-40a3-93ad-d856886e5a7c')\"\n",
       "              title=\"Convert this dataframe to an interactive table.\"\n",
       "              style=\"display:none;\">\n",
       "        \n",
       "  <svg xmlns=\"http://www.w3.org/2000/svg\" height=\"24px\"viewBox=\"0 0 24 24\"\n",
       "       width=\"24px\">\n",
       "    <path d=\"M0 0h24v24H0V0z\" fill=\"none\"/>\n",
       "    <path d=\"M18.56 5.44l.94 2.06.94-2.06 2.06-.94-2.06-.94-.94-2.06-.94 2.06-2.06.94zm-11 1L8.5 8.5l.94-2.06 2.06-.94-2.06-.94L8.5 2.5l-.94 2.06-2.06.94zm10 10l.94 2.06.94-2.06 2.06-.94-2.06-.94-.94-2.06-.94 2.06-2.06.94z\"/><path d=\"M17.41 7.96l-1.37-1.37c-.4-.4-.92-.59-1.43-.59-.52 0-1.04.2-1.43.59L10.3 9.45l-7.72 7.72c-.78.78-.78 2.05 0 2.83L4 21.41c.39.39.9.59 1.41.59.51 0 1.02-.2 1.41-.59l7.78-7.78 2.81-2.81c.8-.78.8-2.07 0-2.86zM5.41 20L4 18.59l7.72-7.72 1.47 1.35L5.41 20z\"/>\n",
       "  </svg>\n",
       "      </button>\n",
       "      \n",
       "  <style>\n",
       "    .colab-df-container {\n",
       "      display:flex;\n",
       "      flex-wrap:wrap;\n",
       "      gap: 12px;\n",
       "    }\n",
       "\n",
       "    .colab-df-convert {\n",
       "      background-color: #E8F0FE;\n",
       "      border: none;\n",
       "      border-radius: 50%;\n",
       "      cursor: pointer;\n",
       "      display: none;\n",
       "      fill: #1967D2;\n",
       "      height: 32px;\n",
       "      padding: 0 0 0 0;\n",
       "      width: 32px;\n",
       "    }\n",
       "\n",
       "    .colab-df-convert:hover {\n",
       "      background-color: #E2EBFA;\n",
       "      box-shadow: 0px 1px 2px rgba(60, 64, 67, 0.3), 0px 1px 3px 1px rgba(60, 64, 67, 0.15);\n",
       "      fill: #174EA6;\n",
       "    }\n",
       "\n",
       "    [theme=dark] .colab-df-convert {\n",
       "      background-color: #3B4455;\n",
       "      fill: #D2E3FC;\n",
       "    }\n",
       "\n",
       "    [theme=dark] .colab-df-convert:hover {\n",
       "      background-color: #434B5C;\n",
       "      box-shadow: 0px 1px 3px 1px rgba(0, 0, 0, 0.15);\n",
       "      filter: drop-shadow(0px 1px 2px rgba(0, 0, 0, 0.3));\n",
       "      fill: #FFFFFF;\n",
       "    }\n",
       "  </style>\n",
       "\n",
       "      <script>\n",
       "        const buttonEl =\n",
       "          document.querySelector('#df-5ca9b60e-227d-40a3-93ad-d856886e5a7c button.colab-df-convert');\n",
       "        buttonEl.style.display =\n",
       "          google.colab.kernel.accessAllowed ? 'block' : 'none';\n",
       "\n",
       "        async function convertToInteractive(key) {\n",
       "          const element = document.querySelector('#df-5ca9b60e-227d-40a3-93ad-d856886e5a7c');\n",
       "          const dataTable =\n",
       "            await google.colab.kernel.invokeFunction('convertToInteractive',\n",
       "                                                     [key], {});\n",
       "          if (!dataTable) return;\n",
       "\n",
       "          const docLinkHtml = 'Like what you see? Visit the ' +\n",
       "            '<a target=\"_blank\" href=https://colab.research.google.com/notebooks/data_table.ipynb>data table notebook</a>'\n",
       "            + ' to learn more about interactive tables.';\n",
       "          element.innerHTML = '';\n",
       "          dataTable['output_type'] = 'display_data';\n",
       "          await google.colab.output.renderOutput(dataTable, element);\n",
       "          const docLink = document.createElement('div');\n",
       "          docLink.innerHTML = docLinkHtml;\n",
       "          element.appendChild(docLink);\n",
       "        }\n",
       "      </script>\n",
       "    </div>\n",
       "  </div>\n",
       "  "
      ]
     },
     "metadata": {},
     "execution_count": 72
    }
   ],
   "source": [
    "volleyball = pd.read_csv(\"/content/volleyball.csv\", encoding=\"cp949\")\n",
    "\n",
    "# 1. 팀명\n",
    "volleyball.replace({\"KT&G\":\"KGC인삼공사\", \"인삼공사\":\"KGC인삼공사\"}, inplace=True)\n",
    "\n",
    "# 2. 출전 여부\n",
    "volleyball.replace(\"선발\", \"출전\", inplace=True)\n",
    "\n",
    "volleyball.head(20)"
   ]
  },
  {
   "cell_type": "markdown",
   "source": [
    "# 3. 데이터 살펴보기\n",
    "\n",
    "1.   총 데이터 개수\n",
    "2.   데이터 크기\n",
    "3.   데이터 요약 정보\n",
    "4.   데이터 통계 정보\n",
    "\n"
   ],
   "metadata": {
    "id": "9DEkbIr-XRJ0"
   }
  },
  {
   "cell_type": "code",
   "source": [
    "# 1. 총 데이터 개수\n",
    "print(\"1. 총 데이터 개수\")\n",
    "print(len(volleyball))\n",
    "print()\n",
    "\n",
    "# 2. 데이터 크기\n",
    "print(\"2. 데이터 크기\")\n",
    "print(volleyball.shape)\n",
    "print()\n",
    "\n",
    "# 3. 데이터 요약 정보\n",
    "print(\"3. 데이터 요약 정보\")\n",
    "print(volleyball.info())\n",
    "print()\n",
    "\n",
    "# 4. 데이터 통계 정보\n",
    "print(\"4. 데이터 통계 정보\")\n",
    "volleyball.describe()"
   ],
   "metadata": {
    "colab": {
     "base_uri": "https://localhost:8080/",
     "height": 1000
    },
    "id": "dE_QaRdlXQvE",
    "outputId": "312a39df-14f8-4e34-dbca-8e8efe8b2656"
   },
   "execution_count": 73,
   "outputs": [
    {
     "output_type": "stream",
     "name": "stdout",
     "text": [
      "1. 총 데이터 개수\n",
      "\n",
      "2. 데이터 크기\n",
      "\n",
      "3. 데이터 요약 정보\n",
      "<class 'pandas.core.frame.DataFrame'>\n",
      "RangeIndex: 552 entries, 0 to 551\n",
      "Data columns (total 26 columns):\n",
      " #   Column   Non-Null Count  Dtype  \n",
      "---  ------   --------------  -----  \n",
      " 0   시즌       552 non-null    int64  \n",
      " 1   상대팀      552 non-null    object \n",
      " 2   공격득점     552 non-null    int64  \n",
      " 3   블로킹득점    552 non-null    int64  \n",
      " 4   서브득점     552 non-null    int64  \n",
      " 5   팀범실      552 non-null    int64  \n",
      " 6   상대범실     552 non-null    int64  \n",
      " 7   전체득점     552 non-null    int64  \n",
      " 8   상대득점     552 non-null    int64  \n",
      " 9   디그성공     552 non-null    int64  \n",
      " 10  리시브정확    552 non-null    int64  \n",
      " 11  세트성공     552 non-null    int64  \n",
      " 12  공격성공률    552 non-null    float64\n",
      " 13  리시브효율    552 non-null    float64\n",
      " 14  경기시간     552 non-null    int64  \n",
      " 15  세트승      552 non-null    int64  \n",
      " 16  세트패      552 non-null    int64  \n",
      " 17  결과       552 non-null    object \n",
      " 18  김연경      552 non-null    object \n",
      " 19  김연경득점    162 non-null    float64\n",
      " 20  김연경시도    162 non-null    float64\n",
      " 21  김연경성공    162 non-null    float64\n",
      " 22  김연경공격차단  162 non-null    float64\n",
      " 23  김연경범실    162 non-null    float64\n",
      " 24  김연경성공률   162 non-null    float64\n",
      " 25  김연경점유율   162 non-null    float64\n",
      "dtypes: float64(9), int64(14), object(3)\n",
      "memory usage: 112.2+ KB\n",
      "\n",
      "4. 데이터 통계 정보\n"
     ]
    },
    {
     "output_type": "execute_result",
     "data": {
      "text/plain": [
       "               시즌        공격득점       블로킹득점        서브득점         팀범실        상대범실  \\\n",
       "count  552.000000  552.000000  552.000000  552.000000  552.000000  552.000000   \n",
       "mean     9.802536   52.335145    6.791667    4.494565   21.061594   19.905797   \n",
       "std      5.097146   12.388376    3.143005    2.358898    6.209867    6.013461   \n",
       "min      1.000000   21.000000    0.000000    0.000000    7.000000    6.000000   \n",
       "25%      5.000000   43.750000    4.000000    3.000000   17.000000   16.000000   \n",
       "50%     10.000000   53.000000    7.000000    4.000000   21.000000   19.000000   \n",
       "75%     14.000000   61.000000    9.000000    6.000000   25.000000   24.000000   \n",
       "max     18.000000   94.000000   19.000000   12.000000   38.000000   39.000000   \n",
       "\n",
       "             전체득점        상대득점        디그성공       리시브정확  ...        경기시간  \\\n",
       "count  552.000000  552.000000  552.000000  552.000000  ...  552.000000   \n",
       "mean    84.916667   85.117754   81.255435   35.295290  ...  100.969203   \n",
       "std     17.836023   17.278510   20.791899   11.620033  ...   21.294431   \n",
       "min     40.000000   44.000000   27.000000    9.000000  ...   62.000000   \n",
       "25%     75.000000   75.000000   66.000000   27.000000  ...   80.750000   \n",
       "50%     87.000000   87.000000   80.000000   33.000000  ...  102.000000   \n",
       "75%     99.000000   99.000000   95.250000   44.000000  ...  119.000000   \n",
       "max    125.000000  117.000000  156.000000   86.000000  ...  153.000000   \n",
       "\n",
       "              세트승         세트패       김연경득점       김연경시도       김연경성공     김연경공격차단  \\\n",
       "count  552.000000  552.000000  162.000000  162.000000  162.000000  162.000000   \n",
       "mean     1.934783    1.943841   24.302469   43.648148   19.660494    1.617284   \n",
       "std      1.203181    1.195317    7.857496   13.912090    6.426037    1.388219   \n",
       "min      0.000000    0.000000    6.000000   10.000000    6.000000    0.000000   \n",
       "25%      1.000000    1.000000   19.000000   32.000000   15.000000    0.000000   \n",
       "50%      2.000000    3.000000   24.500000   44.000000   20.000000    1.000000   \n",
       "75%      3.000000    3.000000   29.750000   53.000000   24.000000    3.000000   \n",
       "max      3.000000    3.000000   44.000000   74.000000   37.000000    6.000000   \n",
       "\n",
       "            김연경범실      김연경성공률      김연경점유율  \n",
       "count  162.000000  162.000000  162.000000  \n",
       "mean     3.209877   45.807716   30.555679  \n",
       "std      2.001341    8.881699    6.114683  \n",
       "min      0.000000   16.280000    6.620000  \n",
       "25%      2.000000   40.000000   26.857500  \n",
       "50%      3.000000   45.100000   30.390000  \n",
       "75%      5.000000   52.127500   34.405000  \n",
       "max      9.000000   69.570000   41.980000  \n",
       "\n",
       "[8 rows x 23 columns]"
      ],
      "text/html": [
       "\n",
       "  <div id=\"df-343fc60b-a539-484f-8a32-55cff8f1b238\">\n",
       "    <div class=\"colab-df-container\">\n",
       "      <div>\n",
       "<style scoped>\n",
       "    .dataframe tbody tr th:only-of-type {\n",
       "        vertical-align: middle;\n",
       "    }\n",
       "\n",
       "    .dataframe tbody tr th {\n",
       "        vertical-align: top;\n",
       "    }\n",
       "\n",
       "    .dataframe thead th {\n",
       "        text-align: right;\n",
       "    }\n",
       "</style>\n",
       "<table border=\"1\" class=\"dataframe\">\n",
       "  <thead>\n",
       "    <tr style=\"text-align: right;\">\n",
       "      <th></th>\n",
       "      <th>시즌</th>\n",
       "      <th>공격득점</th>\n",
       "      <th>블로킹득점</th>\n",
       "      <th>서브득점</th>\n",
       "      <th>팀범실</th>\n",
       "      <th>상대범실</th>\n",
       "      <th>전체득점</th>\n",
       "      <th>상대득점</th>\n",
       "      <th>디그성공</th>\n",
       "      <th>리시브정확</th>\n",
       "      <th>...</th>\n",
       "      <th>경기시간</th>\n",
       "      <th>세트승</th>\n",
       "      <th>세트패</th>\n",
       "      <th>김연경득점</th>\n",
       "      <th>김연경시도</th>\n",
       "      <th>김연경성공</th>\n",
       "      <th>김연경공격차단</th>\n",
       "      <th>김연경범실</th>\n",
       "      <th>김연경성공률</th>\n",
       "      <th>김연경점유율</th>\n",
       "    </tr>\n",
       "  </thead>\n",
       "  <tbody>\n",
       "    <tr>\n",
       "      <th>count</th>\n",
       "      <td>552.000000</td>\n",
       "      <td>552.000000</td>\n",
       "      <td>552.000000</td>\n",
       "      <td>552.000000</td>\n",
       "      <td>552.000000</td>\n",
       "      <td>552.000000</td>\n",
       "      <td>552.000000</td>\n",
       "      <td>552.000000</td>\n",
       "      <td>552.000000</td>\n",
       "      <td>552.000000</td>\n",
       "      <td>...</td>\n",
       "      <td>552.000000</td>\n",
       "      <td>552.000000</td>\n",
       "      <td>552.000000</td>\n",
       "      <td>162.000000</td>\n",
       "      <td>162.000000</td>\n",
       "      <td>162.000000</td>\n",
       "      <td>162.000000</td>\n",
       "      <td>162.000000</td>\n",
       "      <td>162.000000</td>\n",
       "      <td>162.000000</td>\n",
       "    </tr>\n",
       "    <tr>\n",
       "      <th>mean</th>\n",
       "      <td>9.802536</td>\n",
       "      <td>52.335145</td>\n",
       "      <td>6.791667</td>\n",
       "      <td>4.494565</td>\n",
       "      <td>21.061594</td>\n",
       "      <td>19.905797</td>\n",
       "      <td>84.916667</td>\n",
       "      <td>85.117754</td>\n",
       "      <td>81.255435</td>\n",
       "      <td>35.295290</td>\n",
       "      <td>...</td>\n",
       "      <td>100.969203</td>\n",
       "      <td>1.934783</td>\n",
       "      <td>1.943841</td>\n",
       "      <td>24.302469</td>\n",
       "      <td>43.648148</td>\n",
       "      <td>19.660494</td>\n",
       "      <td>1.617284</td>\n",
       "      <td>3.209877</td>\n",
       "      <td>45.807716</td>\n",
       "      <td>30.555679</td>\n",
       "    </tr>\n",
       "    <tr>\n",
       "      <th>std</th>\n",
       "      <td>5.097146</td>\n",
       "      <td>12.388376</td>\n",
       "      <td>3.143005</td>\n",
       "      <td>2.358898</td>\n",
       "      <td>6.209867</td>\n",
       "      <td>6.013461</td>\n",
       "      <td>17.836023</td>\n",
       "      <td>17.278510</td>\n",
       "      <td>20.791899</td>\n",
       "      <td>11.620033</td>\n",
       "      <td>...</td>\n",
       "      <td>21.294431</td>\n",
       "      <td>1.203181</td>\n",
       "      <td>1.195317</td>\n",
       "      <td>7.857496</td>\n",
       "      <td>13.912090</td>\n",
       "      <td>6.426037</td>\n",
       "      <td>1.388219</td>\n",
       "      <td>2.001341</td>\n",
       "      <td>8.881699</td>\n",
       "      <td>6.114683</td>\n",
       "    </tr>\n",
       "    <tr>\n",
       "      <th>min</th>\n",
       "      <td>1.000000</td>\n",
       "      <td>21.000000</td>\n",
       "      <td>0.000000</td>\n",
       "      <td>0.000000</td>\n",
       "      <td>7.000000</td>\n",
       "      <td>6.000000</td>\n",
       "      <td>40.000000</td>\n",
       "      <td>44.000000</td>\n",
       "      <td>27.000000</td>\n",
       "      <td>9.000000</td>\n",
       "      <td>...</td>\n",
       "      <td>62.000000</td>\n",
       "      <td>0.000000</td>\n",
       "      <td>0.000000</td>\n",
       "      <td>6.000000</td>\n",
       "      <td>10.000000</td>\n",
       "      <td>6.000000</td>\n",
       "      <td>0.000000</td>\n",
       "      <td>0.000000</td>\n",
       "      <td>16.280000</td>\n",
       "      <td>6.620000</td>\n",
       "    </tr>\n",
       "    <tr>\n",
       "      <th>25%</th>\n",
       "      <td>5.000000</td>\n",
       "      <td>43.750000</td>\n",
       "      <td>4.000000</td>\n",
       "      <td>3.000000</td>\n",
       "      <td>17.000000</td>\n",
       "      <td>16.000000</td>\n",
       "      <td>75.000000</td>\n",
       "      <td>75.000000</td>\n",
       "      <td>66.000000</td>\n",
       "      <td>27.000000</td>\n",
       "      <td>...</td>\n",
       "      <td>80.750000</td>\n",
       "      <td>1.000000</td>\n",
       "      <td>1.000000</td>\n",
       "      <td>19.000000</td>\n",
       "      <td>32.000000</td>\n",
       "      <td>15.000000</td>\n",
       "      <td>0.000000</td>\n",
       "      <td>2.000000</td>\n",
       "      <td>40.000000</td>\n",
       "      <td>26.857500</td>\n",
       "    </tr>\n",
       "    <tr>\n",
       "      <th>50%</th>\n",
       "      <td>10.000000</td>\n",
       "      <td>53.000000</td>\n",
       "      <td>7.000000</td>\n",
       "      <td>4.000000</td>\n",
       "      <td>21.000000</td>\n",
       "      <td>19.000000</td>\n",
       "      <td>87.000000</td>\n",
       "      <td>87.000000</td>\n",
       "      <td>80.000000</td>\n",
       "      <td>33.000000</td>\n",
       "      <td>...</td>\n",
       "      <td>102.000000</td>\n",
       "      <td>2.000000</td>\n",
       "      <td>3.000000</td>\n",
       "      <td>24.500000</td>\n",
       "      <td>44.000000</td>\n",
       "      <td>20.000000</td>\n",
       "      <td>1.000000</td>\n",
       "      <td>3.000000</td>\n",
       "      <td>45.100000</td>\n",
       "      <td>30.390000</td>\n",
       "    </tr>\n",
       "    <tr>\n",
       "      <th>75%</th>\n",
       "      <td>14.000000</td>\n",
       "      <td>61.000000</td>\n",
       "      <td>9.000000</td>\n",
       "      <td>6.000000</td>\n",
       "      <td>25.000000</td>\n",
       "      <td>24.000000</td>\n",
       "      <td>99.000000</td>\n",
       "      <td>99.000000</td>\n",
       "      <td>95.250000</td>\n",
       "      <td>44.000000</td>\n",
       "      <td>...</td>\n",
       "      <td>119.000000</td>\n",
       "      <td>3.000000</td>\n",
       "      <td>3.000000</td>\n",
       "      <td>29.750000</td>\n",
       "      <td>53.000000</td>\n",
       "      <td>24.000000</td>\n",
       "      <td>3.000000</td>\n",
       "      <td>5.000000</td>\n",
       "      <td>52.127500</td>\n",
       "      <td>34.405000</td>\n",
       "    </tr>\n",
       "    <tr>\n",
       "      <th>max</th>\n",
       "      <td>18.000000</td>\n",
       "      <td>94.000000</td>\n",
       "      <td>19.000000</td>\n",
       "      <td>12.000000</td>\n",
       "      <td>38.000000</td>\n",
       "      <td>39.000000</td>\n",
       "      <td>125.000000</td>\n",
       "      <td>117.000000</td>\n",
       "      <td>156.000000</td>\n",
       "      <td>86.000000</td>\n",
       "      <td>...</td>\n",
       "      <td>153.000000</td>\n",
       "      <td>3.000000</td>\n",
       "      <td>3.000000</td>\n",
       "      <td>44.000000</td>\n",
       "      <td>74.000000</td>\n",
       "      <td>37.000000</td>\n",
       "      <td>6.000000</td>\n",
       "      <td>9.000000</td>\n",
       "      <td>69.570000</td>\n",
       "      <td>41.980000</td>\n",
       "    </tr>\n",
       "  </tbody>\n",
       "</table>\n",
       "<p>8 rows × 23 columns</p>\n",
       "</div>\n",
       "      <button class=\"colab-df-convert\" onclick=\"convertToInteractive('df-343fc60b-a539-484f-8a32-55cff8f1b238')\"\n",
       "              title=\"Convert this dataframe to an interactive table.\"\n",
       "              style=\"display:none;\">\n",
       "        \n",
       "  <svg xmlns=\"http://www.w3.org/2000/svg\" height=\"24px\"viewBox=\"0 0 24 24\"\n",
       "       width=\"24px\">\n",
       "    <path d=\"M0 0h24v24H0V0z\" fill=\"none\"/>\n",
       "    <path d=\"M18.56 5.44l.94 2.06.94-2.06 2.06-.94-2.06-.94-.94-2.06-.94 2.06-2.06.94zm-11 1L8.5 8.5l.94-2.06 2.06-.94-2.06-.94L8.5 2.5l-.94 2.06-2.06.94zm10 10l.94 2.06.94-2.06 2.06-.94-2.06-.94-.94-2.06-.94 2.06-2.06.94z\"/><path d=\"M17.41 7.96l-1.37-1.37c-.4-.4-.92-.59-1.43-.59-.52 0-1.04.2-1.43.59L10.3 9.45l-7.72 7.72c-.78.78-.78 2.05 0 2.83L4 21.41c.39.39.9.59 1.41.59.51 0 1.02-.2 1.41-.59l7.78-7.78 2.81-2.81c.8-.78.8-2.07 0-2.86zM5.41 20L4 18.59l7.72-7.72 1.47 1.35L5.41 20z\"/>\n",
       "  </svg>\n",
       "      </button>\n",
       "      \n",
       "  <style>\n",
       "    .colab-df-container {\n",
       "      display:flex;\n",
       "      flex-wrap:wrap;\n",
       "      gap: 12px;\n",
       "    }\n",
       "\n",
       "    .colab-df-convert {\n",
       "      background-color: #E8F0FE;\n",
       "      border: none;\n",
       "      border-radius: 50%;\n",
       "      cursor: pointer;\n",
       "      display: none;\n",
       "      fill: #1967D2;\n",
       "      height: 32px;\n",
       "      padding: 0 0 0 0;\n",
       "      width: 32px;\n",
       "    }\n",
       "\n",
       "    .colab-df-convert:hover {\n",
       "      background-color: #E2EBFA;\n",
       "      box-shadow: 0px 1px 2px rgba(60, 64, 67, 0.3), 0px 1px 3px 1px rgba(60, 64, 67, 0.15);\n",
       "      fill: #174EA6;\n",
       "    }\n",
       "\n",
       "    [theme=dark] .colab-df-convert {\n",
       "      background-color: #3B4455;\n",
       "      fill: #D2E3FC;\n",
       "    }\n",
       "\n",
       "    [theme=dark] .colab-df-convert:hover {\n",
       "      background-color: #434B5C;\n",
       "      box-shadow: 0px 1px 3px 1px rgba(0, 0, 0, 0.15);\n",
       "      filter: drop-shadow(0px 1px 2px rgba(0, 0, 0, 0.3));\n",
       "      fill: #FFFFFF;\n",
       "    }\n",
       "  </style>\n",
       "\n",
       "      <script>\n",
       "        const buttonEl =\n",
       "          document.querySelector('#df-343fc60b-a539-484f-8a32-55cff8f1b238 button.colab-df-convert');\n",
       "        buttonEl.style.display =\n",
       "          google.colab.kernel.accessAllowed ? 'block' : 'none';\n",
       "\n",
       "        async function convertToInteractive(key) {\n",
       "          const element = document.querySelector('#df-343fc60b-a539-484f-8a32-55cff8f1b238');\n",
       "          const dataTable =\n",
       "            await google.colab.kernel.invokeFunction('convertToInteractive',\n",
       "                                                     [key], {});\n",
       "          if (!dataTable) return;\n",
       "\n",
       "          const docLinkHtml = 'Like what you see? Visit the ' +\n",
       "            '<a target=\"_blank\" href=https://colab.research.google.com/notebooks/data_table.ipynb>data table notebook</a>'\n",
       "            + ' to learn more about interactive tables.';\n",
       "          element.innerHTML = '';\n",
       "          dataTable['output_type'] = 'display_data';\n",
       "          await google.colab.output.renderOutput(dataTable, element);\n",
       "          const docLink = document.createElement('div');\n",
       "          docLink.innerHTML = docLinkHtml;\n",
       "          element.appendChild(docLink);\n",
       "        }\n",
       "      </script>\n",
       "    </div>\n",
       "  </div>\n",
       "  "
      ]
     },
     "metadata": {},
     "execution_count": 73
    }
   ]
  },
  {
   "cell_type": "markdown",
   "source": [
    "# 4. 시각화\n",
    "\n",
    "1.   시즌 당 경기 수 \n",
    "2.   상대팀 당 경기 수\n",
    "3.   승패\n",
    "\n",
    "\n",
    "\n"
   ],
   "metadata": {
    "id": "3NEY-SHHdTOA"
   }
  },
  {
   "cell_type": "code",
   "source": [
    "# 1. 시즌 당 경기수\n",
    "season = []\n",
    "game_count = []\n",
    "season_data = volleyball['시즌'].value_counts().to_dict()\n",
    "for k, v in season_data.items() :\n",
    "  season.append(k)\n",
    "  game_count.append(v)\n",
    "plt.subplot(1, 1, 1)\n",
    "plt.pie(game_count, labels=season, autopct='%.1f%%', pctdistance=0.85)\n",
    "plt.title(\"1. 시즌 당 경기수\")\n",
    "plt.show()"
   ],
   "metadata": {
    "colab": {
     "base_uri": "https://localhost:8080/",
     "height": 263
    },
    "id": "qb2ZFxJCd2Uy",
    "outputId": "a1f8ef28-ce09-4054-f31f-2b094b0e3d25"
   },
   "execution_count": 74,
   "outputs": [
    {
     "output_type": "display_data",
     "data": {
      "text/plain": [
       "<Figure size 432x288 with 1 Axes>"
      ],
      "image/png": "[encoded data removed]"
     },
     "metadata": {}
    }
   ]
  },
  {
   "cell_type": "code",
   "source": [
    "# 2. 상대팀 당 경기수\n",
    "team = []\n",
    "game_count2 = []\n",
    "team_game = volleyball['상대팀'].value_counts().to_dict()\n",
    "for k, v, in team_game.items() :\n",
    "  team.append(k)\n",
    "  game_count2.append(v)\n",
    "plt.subplot(1, 1, 1)\n",
    "plt.pie(game_count2, labels=team, autopct='%.1f%%')\n",
    "plt.title(\"2. 상대팀 당 경기수\")\n",
    "plt.show()"
   ],
   "metadata": {
    "colab": {
     "base_uri": "https://localhost:8080/",
     "height": 263
    },
    "id": "QhzDaFhz7OfW",
    "outputId": "87218f83-9e74-456d-92c3-32a3ba57d781"
   },
   "execution_count": 76,
   "outputs": [
    {
     "output_type": "display_data",
     "data": {
      "text/plain": [
       "<Figure size 432x288 with 1 Axes>"
      ],
      "image/png": "[encoded data removed]"
     },
     "metadata": {}
    }
   ]
  },
  {
   "cell_type": "code",
   "source": [
    "# 3. 승패\n",
    "win_loss = [len(volleyball[volleyball['결과'] == '승']), len(volleyball[volleyball['결과'] == '패'])]\n",
    "label = ['승', '패']\n",
    "plt.subplot(1, 1, 1)\n",
    "plt.pie(win_loss, labels=label, autopct='%.1f%%')\n",
    "plt.title(\"3. 승패\")\n",
    "plt.show()"
   ],
   "metadata": {
    "colab": {
     "base_uri": "https://localhost:8080/",
     "height": 263
    },
    "id": "sgWHxIjV7TJW",
    "outputId": "182f7f44-6b30-4e32-e678-3e1006f1a278"
   },
   "execution_count": 77,
   "outputs": [
    {
     "output_type": "display_data",
     "data": {
      "text/plain": [
       "<Figure size 432x288 with 1 Axes>"
      ],
      "image/png": "[encoded data removed]"
     },
     "metadata": {}
    }
   ]
  },
  {
   "cell_type": "markdown",
   "source": [
    "# 분석\n",
    "\n",
    "1.   공격득점\n",
    "2.   블로킹득점\n",
    "1.   서브득점\n",
    "1.   팀범실\n",
    "1.   상대범실\n",
    "1.   전체득점\n",
    "2.   디그성공\n",
    "2.   리시브정확\n",
    "2.   세트성공\n",
    "2.   공격성공률\n",
    "1.   리시브효율\n",
    "2.   경기시간\n",
    "\n",
    "\n",
    "\n",
    "\n",
    "\n"
   ],
   "metadata": {
    "id": "4dbY3QkbaYsm"
   }
  },
  {
   "cell_type": "code",
   "source": [
    "sns.histplot(data=volleyball, x='공격득점', bins=50)\n",
    "plt.title(\"공격득점 분포\")\n",
    "plt.show()"
   ],
   "metadata": {
    "colab": {
     "base_uri": "https://localhost:8080/",
     "height": 293
    },
    "id": "VXfVQQGoXScP",
    "outputId": "737b9c2b-b58f-46d7-927c-2de21815d210"
   },
   "execution_count": 78,
   "outputs": [
    {
     "output_type": "display_data",
     "data": {
      "text/plain": [
       "<Figure size 432x288 with 1 Axes>"
      ],
      "image/png": "[encoded data removed]"
     },
     "metadata": {
      "needs_background": "light"
     }
    }
   ]
  },
  {
   "cell_type": "code",
   "source": [
    "attack = volleyball[volleyball['공격득점'] >= 50]\n",
    "attack_data = [len(attack[attack['결과'] == '승']), len(attack[attack['결과'] == '패'])]\n",
    "attack_label = ['승', '패']\n",
    "plt.pie(attack_data, labels=attack_label, autopct='%.1f%%')\n",
    "plt.title(\"공격득점 50점 이하 결과 비율\")\n",
    "plt.show()"
   ],
   "metadata": {
    "colab": {
     "base_uri": "https://localhost:8080/",
     "height": 263
    },
    "id": "7RL1IczIp4sX",
    "outputId": "1d2485fc-3ac5-45d6-fea8-35a07a24a348"
   },
   "execution_count": 79,
   "outputs": [
    {
     "output_type": "display_data",
     "data": {
      "text/plain": [
       "<Figure size 432x288 with 1 Axes>"
      ],
      "image/png": "[encoded data removed]"
     },
     "metadata": {}
    }
   ]
  },
  {
   "cell_type": "code",
   "source": [
    "attack2 = volleyball[volleyball['공격득점'] >= 60]\n",
    "attack_data2 = [len(attack2[attack2['결과'] == '승']), len(attack2[attack2['결과'] == '패'])]\n",
    "attack_label2 = ['승', '패']\n",
    "plt.pie(attack_data2, labels=attack_label2, autopct='%.1f%%')\n",
    "plt.title(\"공격득점 60점 이상 결과 비율\")\n",
    "plt.show()"
   ],
   "metadata": {
    "colab": {
     "base_uri": "https://localhost:8080/",
     "height": 263
    },
    "id": "sTR3MaZArYoe",
    "outputId": "360524d4-b53f-4074-fc59-a2018db84f26"
   },
   "execution_count": 80,
   "outputs": [
    {
     "output_type": "display_data",
     "data": {
      "text/plain": [
       "<Figure size 432x288 with 1 Axes>"
      ],
      "image/png": "[encoded data removed]"
     },
     "metadata": {}
    }
   ]
  },
  {
   "cell_type": "code",
   "source": [
    "sns.histplot(data=volleyball, x='블로킹득점')\n",
    "plt.title(\"블로킹득점 분포\")\n",
    "plt.show()"
   ],
   "metadata": {
    "colab": {
     "base_uri": "https://localhost:8080/",
     "height": 293
    },
    "id": "RoMRdCg8jZnV",
    "outputId": "3e1c3f5d-94fd-4348-fd35-7a5c16643c58"
   },
   "execution_count": 81,
   "outputs": [
    {
     "output_type": "display_data",
     "data": {
      "text/plain": [
       "<Figure size 432x288 with 1 Axes>"
      ],
      "image/png": "[encoded data removed]"
     },
     "metadata": {
      "needs_background": "light"
     }
    }
   ]
  },
  {
   "cell_type": "code",
   "source": [
    "block = volleyball[volleyball['블로킹득점'] >= 5]\n",
    "block_data = [len(block[block['결과'] == '승']), len(block[block['결과'] == '패'])]\n",
    "block_label = ['승', '패']\n",
    "plt.pie(block_data, labels=block_label, autopct='%.1f%%')\n",
    "plt.title(\"블로킹득점 5점 이상 결과 비율\")\n",
    "plt.show()"
   ],
   "metadata": {
    "colab": {
     "base_uri": "https://localhost:8080/",
     "height": 263
    },
    "id": "InugzonmDQLQ",
    "outputId": "2437da12-2f42-4155-f6ed-768e37b71ea8"
   },
   "execution_count": 82,
   "outputs": [
    {
     "output_type": "display_data",
     "data": {
      "text/plain": [
       "<Figure size 432x288 with 1 Axes>"
      ],
      "image/png": "[encoded data removed]"
     },
     "metadata": {}
    }
   ]
  },
  {
   "cell_type": "code",
   "source": [
    "block2 = volleyball[volleyball['블로킹득점'] >= 7]\n",
    "block_data2 = [len(block2[block2['결과'] == '승']), len(block2[block2['결과'] == '패'])]\n",
    "block_label2 = ['승', '패']\n",
    "plt.pie(block_data2, labels=block_label2, autopct='%.1f%%')\n",
    "plt.title(\"블로킹득점 7점 이상 결과 비율\")\n",
    "plt.show()"
   ],
   "metadata": {
    "colab": {
     "base_uri": "https://localhost:8080/",
     "height": 263
    },
    "id": "va9RqkjODzb5",
    "outputId": "b2cae0c7-9abc-4aa7-aa68-4cf399fa369d"
   },
   "execution_count": 83,
   "outputs": [
    {
     "output_type": "display_data",
     "data": {
      "text/plain": [
       "<Figure size 432x288 with 1 Axes>"
      ],
      "image/png": "[encoded data removed]"
     },
     "metadata": {}
    }
   ]
  },
  {
   "cell_type": "code",
   "source": [
    "sns.histplot(data=volleyball, x='서브득점')\n",
    "plt.title(\"서브득점 분포\")\n",
    "plt.show()"
   ],
   "metadata": {
    "colab": {
     "base_uri": "https://localhost:8080/",
     "height": 293
    },
    "id": "kfGmjSGwjZwz",
    "outputId": "dbd17dc6-e5ce-40e1-bb2d-b6f6c38c4f2e"
   },
   "execution_count": 84,
   "outputs": [
    {
     "output_type": "display_data",
     "data": {
      "text/plain": [
       "<Figure size 432x288 with 1 Axes>"
      ],
      "image/png": "[encoded data removed]"
     },
     "metadata": {
      "needs_background": "light"
     }
    }
   ]
  },
  {
   "cell_type": "code",
   "source": [
    "serve = volleyball[volleyball['서브득점'] >= 2]\n",
    "serve_data = [len(serve[serve['결과'] == '승']), len(serve[serve['결과'] == '패'])]\n",
    "serve_label = ['승', '패']\n",
    "plt.pie(serve_data, labels=serve_label, autopct='%.1f%%')\n",
    "plt.title(\"서브득점 2점 이상 결과 비율\")\n",
    "plt.show()"
   ],
   "metadata": {
    "colab": {
     "base_uri": "https://localhost:8080/",
     "height": 263
    },
    "id": "jQqyq90ZNE9F",
    "outputId": "64357ebe-3b53-451b-b346-a9323af7d3a0"
   },
   "execution_count": 85,
   "outputs": [
    {
     "output_type": "display_data",
     "data": {
      "text/plain": [
       "<Figure size 432x288 with 1 Axes>"
      ],
      "image/png": "[encoded data removed]"
     },
     "metadata": {}
    }
   ]
  },
  {
   "cell_type": "code",
   "source": [
    "serve2 = volleyball[volleyball['블로킹득점'] >= 7]\n",
    "serve_data2 = [len(serve2[serve2['결과'] == '승']), len(serve2[serve2['결과'] == '패'])]\n",
    "serve_label2 = ['승', '패']\n",
    "plt.pie(serve_data2, labels=serve_label2, autopct='%.1f%%')\n",
    "plt.title(\"블로킹득점 7점 이상 결과 비율\")\n",
    "plt.show()"
   ],
   "metadata": {
    "colab": {
     "base_uri": "https://localhost:8080/",
     "height": 263
    },
    "id": "DdPdSoKhNVkp",
    "outputId": "ee990966-01ce-476a-e038-1fb3155da599"
   },
   "execution_count": 86,
   "outputs": [
    {
     "output_type": "display_data",
     "data": {
      "text/plain": [
       "<Figure size 432x288 with 1 Axes>"
      ],
      "image/png": "[encoded data removed]"
     },
     "metadata": {}
    }
   ]
  },
  {
   "cell_type": "code",
   "source": [
    "sns.histplot(data=volleyball, x='팀범실')\n",
    "plt.title(\"팀범실 분포\")\n",
    "plt.show()"
   ],
   "metadata": {
    "colab": {
     "base_uri": "https://localhost:8080/",
     "height": 293
    },
    "id": "U3u-nqXyjZ4l",
    "outputId": "20078ff8-df91-4793-d03c-88837351ef33"
   },
   "execution_count": 87,
   "outputs": [
    {
     "output_type": "display_data",
     "data": {
      "text/plain": [
       "<Figure size 432x288 with 1 Axes>"
      ],
      "image/png": "[encoded data removed]"
     },
     "metadata": {
      "needs_background": "light"
     }
    }
   ]
  },
  {
   "cell_type": "code",
   "source": [
    "miss = volleyball[volleyball['팀범실'] >= 10]\n",
    "miss_data = [len(miss[miss['결과'] == '승']), len(miss[miss['결과'] == '패'])]\n",
    "miss_label = ['승', '패']\n",
    "plt.pie(miss_data, labels=miss_label, autopct='%.1f%%')\n",
    "plt.title(\"팀범실 10점 이상 결과 비율\")\n",
    "plt.show()"
   ],
   "metadata": {
    "colab": {
     "base_uri": "https://localhost:8080/",
     "height": 263
    },
    "id": "phbY8X5XN-zH",
    "outputId": "8d969c7f-c7d5-482f-85f5-8a26ae751b32"
   },
   "execution_count": 93,
   "outputs": [
    {
     "output_type": "display_data",
     "data": {
      "text/plain": [
       "<Figure size 432x288 with 1 Axes>"
      ],
      "image/png": "[encoded data removed]"
     },
     "metadata": {}
    }
   ]
  },
  {
   "cell_type": "code",
   "source": [
    "miss2 = volleyball[volleyball['팀범실'] >= 20]\n",
    "miss_data2 = [len(miss2[miss2['결과'] == '승']), len(miss2[miss2['결과'] == '패'])]\n",
    "miss_label2 = ['승', '패']\n",
    "plt.pie(miss_data2, labels=miss_label2, autopct='%.1f%%')\n",
    "plt.title(\"팀범실 20점 이상 결과 비율\")\n",
    "plt.show()"
   ],
   "metadata": {
    "colab": {
     "base_uri": "https://localhost:8080/",
     "height": 263
    },
    "id": "7bJxqH8uOK0a",
    "outputId": "04933bcf-7c1b-4f78-d5dc-958a06d3d0c4"
   },
   "execution_count": 92,
   "outputs": [
    {
     "output_type": "display_data",
     "data": {
      "text/plain": [
       "<Figure size 432x288 with 1 Axes>"
      ],
      "image/png": "[encoded data removed]"
     },
     "metadata": {}
    }
   ]
  },
  {
   "cell_type": "code",
   "source": [
    "sns.histplot(data=volleyball, x='상대범실')\n",
    "plt.title(\"상대범실 분포\")\n",
    "plt.show()"
   ],
   "metadata": {
    "colab": {
     "base_uri": "https://localhost:8080/",
     "height": 293
    },
    "id": "RVH8N340jaAK",
    "outputId": "d61a0488-2ebe-462b-c738-8f3ed033ab20"
   },
   "execution_count": null,
   "outputs": [
    {
     "output_type": "display_data",
     "data": {
      "text/plain": [
       "<Figure size 432x288 with 1 Axes>"
      ],
      "image/png": "[encoded data removed]"
     },
     "metadata": {
      "needs_background": "light"
     }
    }
   ]
  },
  {
   "cell_type": "code",
   "source": [
    "sns.histplot(data=volleyball, x='전체득점', bins=50)\n",
    "plt.title(\"전체득점 분포\")\n",
    "plt.show()"
   ],
   "metadata": {
    "colab": {
     "base_uri": "https://localhost:8080/",
     "height": 293
    },
    "id": "e_aVPhe2jaHF",
    "outputId": "d2d3c321-85b4-4369-ff8d-882eb86a6246"
   },
   "execution_count": null,
   "outputs": [
    {
     "output_type": "display_data",
     "data": {
      "text/plain": [
       "<Figure size 432x288 with 1 Axes>"
      ],
      "image/png": "[encoded data removed]"
     },
     "metadata": {
      "needs_background": "light"
     }
    }
   ]
  },
  {
   "cell_type": "code",
   "source": [
    "sns.histplot(data=volleyball, x='디그성공', bins=50)\n",
    "plt.title(\"디그성공 분포\")\n",
    "plt.show()"
   ],
   "metadata": {
    "colab": {
     "base_uri": "https://localhost:8080/",
     "height": 293
    },
    "id": "fOXc1g7vjaOC",
    "outputId": "bf52fc2a-0c27-4642-8748-04fc480992b0"
   },
   "execution_count": null,
   "outputs": [
    {
     "output_type": "display_data",
     "data": {
      "text/plain": [
       "<Figure size 432x288 with 1 Axes>"
      ],
      "image/png": "[encoded data removed]"
     },
     "metadata": {
      "needs_background": "light"
     }
    }
   ]
  },
  {
   "cell_type": "code",
   "source": [
    "sns.histplot(data=volleyball, x='리시브정확', bins=50)\n",
    "plt.title(\"리시브정확 분포\")\n",
    "plt.show()"
   ],
   "metadata": {
    "colab": {
     "base_uri": "https://localhost:8080/",
     "height": 293
    },
    "id": "ICsSx7DWjaUj",
    "outputId": "fa4a74ef-d6a1-4f46-a59a-6996cc9582cc"
   },
   "execution_count": null,
   "outputs": [
    {
     "output_type": "display_data",
     "data": {
      "text/plain": [
       "<Figure size 432x288 with 1 Axes>"
      ],
      "image/png": "[encoded data removed]"
     },
     "metadata": {
      "needs_background": "light"
     }
    }
   ]
  },
  {
   "cell_type": "code",
   "source": [
    "sns.histplot(data=volleyball, x='세트성공', bins=50)\n",
    "plt.title(\"세트성공 분포\")\n",
    "plt.show()"
   ],
   "metadata": {
    "colab": {
     "base_uri": "https://localhost:8080/",
     "height": 293
    },
    "id": "BGHvDS9sjadm",
    "outputId": "8918cca9-eb05-433f-b417-f6c2c294a7fe"
   },
   "execution_count": null,
   "outputs": [
    {
     "output_type": "display_data",
     "data": {
      "text/plain": [
       "<Figure size 432x288 with 1 Axes>"
      ],
      "image/png": "[encoded data removed]"
     },
     "metadata": {
      "needs_background": "light"
     }
    }
   ]
  },
  {
   "cell_type": "code",
   "source": [
    "sns.histplot(data=volleyball, x='공격성공률', bins=50)\n",
    "plt.title(\"공격성공률 분포\")\n",
    "plt.show()"
   ],
   "metadata": {
    "colab": {
     "base_uri": "https://localhost:8080/",
     "height": 293
    },
    "id": "LsqfnaCrjaif",
    "outputId": "9b8dd019-a29a-4408-bff8-fdfd4e280738"
   },
   "execution_count": null,
   "outputs": [
    {
     "output_type": "display_data",
     "data": {
      "text/plain": [
       "<Figure size 432x288 with 1 Axes>"
      ],
      "image/png": "[encoded data removed]"
     },
     "metadata": {
      "needs_background": "light"
     }
    }
   ]
  },
  {
   "cell_type": "code",
   "source": [
    "sns.histplot(data=volleyball, x='리시브효율', bins=50)\n",
    "plt.title(\"리시브효율 분포\")\n",
    "plt.show()"
   ],
   "metadata": {
    "colab": {
     "base_uri": "https://localhost:8080/",
     "height": 292
    },
    "id": "3acG7ocRjapq",
    "outputId": "70e0a6b6-cb8c-4328-f829-d5879e045fc3"
   },
   "execution_count": null,
   "outputs": [
    {
     "output_type": "display_data",
     "data": {
      "text/plain": [
       "<Figure size 432x288 with 1 Axes>"
      ],
      "image/png": "[encoded data removed]"
     },
     "metadata": {
      "needs_background": "light"
     }
    }
   ]
  },
  {
   "cell_type": "code",
   "source": [
    "sns.histplot(data=volleyball, x='경기시간', bins=50)\n",
    "plt.title(\"경기시간 분포\")\n",
    "plt.show()"
   ],
   "metadata": {
    "colab": {
     "base_uri": "https://localhost:8080/",
     "height": 293
    },
    "id": "V7f0LorAjawU",
    "outputId": "82e61496-6921-40a9-cfe7-cba7becd280e"
   },
   "execution_count": null,
   "outputs": [
    {
     "output_type": "display_data",
     "data": {
      "text/plain": [
       "<Figure size 432x288 with 1 Axes>"
      ],
      "image/png": "[encoded data removed]"
     },
     "metadata": {
      "needs_background": "light"
     }
    }
   ]
  },
  {
   "cell_type": "code",
   "source": [
    "df1 = volleyball[['공격득점', '블로킹득점', '서브득점', '상대범실']]\n",
    "df1.plot(kind='barh', stacked=True)\n",
    "plt.title(\"득점 비율\")\n",
    "plt.xlabel(\"득점\")\n",
    "plt.show()"
   ],
   "metadata": {
    "colab": {
     "base_uri": "https://localhost:8080/",
     "height": 293
    },
    "id": "_yRPzVB6l7y9",
    "outputId": "7bcaee07-6566-468a-a332-94c37aaed74b"
   },
   "execution_count": null,
   "outputs": [
    {
     "output_type": "display_data",
     "data": {
      "text/plain": [
       "<Figure size 432x288 with 1 Axes>"
      ],
      "image/png": "[encoded data removed]"
     },
     "metadata": {
      "needs_background": "light"
     }
    }
   ]
  }
 ]
}
